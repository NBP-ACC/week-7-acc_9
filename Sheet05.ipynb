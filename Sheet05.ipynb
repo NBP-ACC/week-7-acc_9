{
 "cells": [
  {
   "cell_type": "markdown",
   "metadata": {},
   "source": [
    "Osnabrück University - A&C: Computational Cognition (Summer Term 2019)"
   ]
  },
  {
   "cell_type": "markdown",
   "metadata": {},
   "source": [
    "# Exercise Sheet 05: Eye tracking"
   ]
  },
  {
   "cell_type": "markdown",
   "metadata": {},
   "source": [
    "## Introduction\n",
    "\n",
    "This week's sheet should be solved and handed in at 14:00 at **Tuesday, May 28, 2019**. If you need help (and Google and other resources were not enough), feel free to contact your tutors. Please push your results to your Github group folder.\n",
    "\n",
    "For this exercise sheet you will have 2 weeks and the sheet is also worth of 30 points. In this exercise sheet you will start to work with eye tracking data. Note that the data we will use here are not raw gaze data and contain coordinates of fixation points.\n",
    "\n",
    "The dataset is distributed freely by a following study: [Wilming, N. Dryad](https://www.nature.com/articles/sdata2016126#data-citations). By clicking on the link in the section \"Data Citations\" you will get redirected to the page where you can download all the data openly distributed. Read below for description of each file.\n",
    "\n",
    "##### necessary\n",
    "*etdb_v1.0*: This is the main data file. The hdf5 file consists of all the fixation data and the metadata.  \n",
    "*Read gaze data with python*: Python script to read hdf5 file as a dataframe.  \n",
    "*Stimuli/i*: Zip file containing image stimuli used in the study. The encoding convention is same as in the dataframe.\n",
    "##### optional\n",
    "*Metadata*: This is the csv file giving overview of all studies."
   ]
  },
  {
   "cell_type": "code",
   "execution_count": 1,
   "metadata": {
    "scrolled": true
   },
   "outputs": [
    {
     "name": "stdout",
     "output_type": "stream",
     "text": [
      "\n",
      "The following command must be run outside of the IPython shell:\n",
      "\n",
      "    $ pip install h5py # make sure to install h5py which is used in fixmat.py\n",
      "\n",
      "The Python package manager (pip) can only be used from outside of IPython.\n",
      "Please reissue the `pip` command in a separate terminal or command prompt.\n",
      "\n",
      "See the Python documentation for more informations on how to install packages:\n",
      "\n",
      "    https://docs.python.org/3/installing/\n"
     ]
    }
   ],
   "source": [
    "%pip install h5py # make sure to install h5py which is used in fixmat.py"
   ]
  },
  {
   "cell_type": "code",
   "execution_count": 2,
   "metadata": {},
   "outputs": [
    {
     "name": "stderr",
     "output_type": "stream",
     "text": [
      "C:\\Users\\vrose\\Anaconda3\\lib\\site-packages\\h5py\\__init__.py:36: FutureWarning: Conversion of the second argument of issubdtype from `float` to `np.floating` is deprecated. In future, it will be treated as `np.float64 == np.dtype(float).type`.\n",
      "  from ._conv import register_converters as _register_converters\n"
     ]
    }
   ],
   "source": [
    "import numpy as np\n",
    "import matplotlib\n",
    "import matplotlib.pyplot as plt\n",
    "import seaborn as sns\n",
    "import statsmodels.api as sm\n",
    "from statsmodels.stats.anova import *\n",
    "from statsmodels.formula.api import ols\n",
    "from datas.fixmat import *"
   ]
  },
  {
   "cell_type": "markdown",
   "metadata": {},
   "source": [
    "## Assignment 0: Peer review for sheet 04 [3 pts]"
   ]
  },
  {
   "cell_type": "markdown",
   "metadata": {},
   "source": [
    "Each group reviews the solutions of two other groups and give points according to the given point distribution considering the correctness of the solution. For this reviews the tutors will give you up to 3 points each week. Follow a distributed comment guidelines if you are unsure.\n",
    "\n",
    "| * |Group 1|Group 2|Group 3|Group 4|Group 5|Group 6|Group 7|Group 8|Group 9|Group 10|Group 11|\n",
    "| ------- | ----- | ----- | ----- | ----- | ----- | ----- | ----- | ----- | ----- | ------ | ------ |\n",
    "| check solutions of group: | 5, 9 | 1, 6  | 4, 7  | 7, 2 | 2, 11 | 8, 3 | 3, 10  | 11, 1  | 10, 4  | 6, 8  | 9, 5   |\n"
   ]
  },
  {
   "cell_type": "markdown",
   "metadata": {},
   "source": [
    "## Assignment 1: Checking the data distribution [9 pts]"
   ]
  },
  {
   "cell_type": "markdown",
   "metadata": {},
   "source": [
    "### a) loading datasets [0 pts]\n",
    "As with any other datasets, the first step is to get an idea of the dataset. Check the meta data and column of the dataframe."
   ]
  },
  {
   "cell_type": "code",
   "execution_count": 3,
   "metadata": {},
   "outputs": [],
   "source": [
    "# use a fixmat.py to load the hdf5 format data as a panda dataframe\n",
    "df, meta = load('datas/etdb_v1.0.hdf5', \"Baseline\")"
   ]
  },
  {
   "cell_type": "code",
   "execution_count": 4,
   "metadata": {
    "scrolled": true
   },
   "outputs": [
    {
     "data": {
      "text/plain": [
       "{'# Fix.': 203772,\n",
       " '# Obs.': 48,\n",
       " 'Age': '23.1 (19-28)',\n",
       " 'Article': 15.0,\n",
       " 'Categories': '7,8,10,11',\n",
       " 'Disp. Size (degree)': '29x22',\n",
       " 'Display': 'SM1100',\n",
       " 'Display resolution (pixels)': '1280x960',\n",
       " 'Eye Tracker': 'EL II',\n",
       " 'ID': 3,\n",
       " 'Img. Pos. (pixel)': '0,0',\n",
       " 'Img. size (pixel)': '1280x960',\n",
       " 'PPD': 45.6,\n",
       " 'Sampling freq. (Hz)': '500 Hz',\n",
       " 'Task': 'FV',\n",
       " 'V. Dur.': '6s',\n",
       " 'V. dist. (cm) ': 80,\n",
       " 'Val. error (degrees)': 0.3}"
      ]
     },
     "execution_count": 4,
     "metadata": {},
     "output_type": "execute_result"
    }
   ],
   "source": [
    "meta"
   ]
  },
  {
   "cell_type": "code",
   "execution_count": 5,
   "metadata": {
    "scrolled": false
   },
   "outputs": [
    {
     "data": {
      "text/html": [
       "<div>\n",
       "<style scoped>\n",
       "    .dataframe tbody tr th:only-of-type {\n",
       "        vertical-align: middle;\n",
       "    }\n",
       "\n",
       "    .dataframe tbody tr th {\n",
       "        vertical-align: top;\n",
       "    }\n",
       "\n",
       "    .dataframe thead th {\n",
       "        text-align: right;\n",
       "    }\n",
       "</style>\n",
       "<table border=\"1\" class=\"dataframe\">\n",
       "  <thead>\n",
       "    <tr style=\"text-align: right;\">\n",
       "      <th></th>\n",
       "      <th>SUBJECTINDEX</th>\n",
       "      <th>category</th>\n",
       "      <th>dataset_nr</th>\n",
       "      <th>end</th>\n",
       "      <th>eye</th>\n",
       "      <th>filenumber</th>\n",
       "      <th>fix</th>\n",
       "      <th>pupil</th>\n",
       "      <th>start</th>\n",
       "      <th>trial</th>\n",
       "      <th>x</th>\n",
       "      <th>y</th>\n",
       "    </tr>\n",
       "  </thead>\n",
       "  <tbody>\n",
       "    <tr>\n",
       "      <th>0</th>\n",
       "      <td>1.0</td>\n",
       "      <td>11.0</td>\n",
       "      <td>3.0</td>\n",
       "      <td>215.0</td>\n",
       "      <td>2.0</td>\n",
       "      <td>25.0</td>\n",
       "      <td>1.0</td>\n",
       "      <td>3287.901123</td>\n",
       "      <td>-183.0</td>\n",
       "      <td>1.0</td>\n",
       "      <td>636.0</td>\n",
       "      <td>489.0</td>\n",
       "    </tr>\n",
       "    <tr>\n",
       "      <th>1</th>\n",
       "      <td>1.0</td>\n",
       "      <td>11.0</td>\n",
       "      <td>3.0</td>\n",
       "      <td>503.0</td>\n",
       "      <td>2.0</td>\n",
       "      <td>25.0</td>\n",
       "      <td>2.0</td>\n",
       "      <td>2872.182129</td>\n",
       "      <td>261.0</td>\n",
       "      <td>1.0</td>\n",
       "      <td>524.0</td>\n",
       "      <td>276.0</td>\n",
       "    </tr>\n",
       "    <tr>\n",
       "      <th>2</th>\n",
       "      <td>1.0</td>\n",
       "      <td>11.0</td>\n",
       "      <td>3.0</td>\n",
       "      <td>819.0</td>\n",
       "      <td>2.0</td>\n",
       "      <td>25.0</td>\n",
       "      <td>3.0</td>\n",
       "      <td>2452.396484</td>\n",
       "      <td>541.0</td>\n",
       "      <td>1.0</td>\n",
       "      <td>592.0</td>\n",
       "      <td>393.0</td>\n",
       "    </tr>\n",
       "    <tr>\n",
       "      <th>3</th>\n",
       "      <td>1.0</td>\n",
       "      <td>11.0</td>\n",
       "      <td>3.0</td>\n",
       "      <td>1103.0</td>\n",
       "      <td>2.0</td>\n",
       "      <td>25.0</td>\n",
       "      <td>4.0</td>\n",
       "      <td>2135.433594</td>\n",
       "      <td>865.0</td>\n",
       "      <td>1.0</td>\n",
       "      <td>367.0</td>\n",
       "      <td>339.0</td>\n",
       "    </tr>\n",
       "    <tr>\n",
       "      <th>4</th>\n",
       "      <td>1.0</td>\n",
       "      <td>11.0</td>\n",
       "      <td>3.0</td>\n",
       "      <td>1399.0</td>\n",
       "      <td>2.0</td>\n",
       "      <td>25.0</td>\n",
       "      <td>5.0</td>\n",
       "      <td>2007.327393</td>\n",
       "      <td>1145.0</td>\n",
       "      <td>1.0</td>\n",
       "      <td>196.0</td>\n",
       "      <td>364.0</td>\n",
       "    </tr>\n",
       "  </tbody>\n",
       "</table>\n",
       "</div>"
      ],
      "text/plain": [
       "   SUBJECTINDEX  category  dataset_nr     end  eye  filenumber  fix  \\\n",
       "0           1.0      11.0         3.0   215.0  2.0        25.0  1.0   \n",
       "1           1.0      11.0         3.0   503.0  2.0        25.0  2.0   \n",
       "2           1.0      11.0         3.0   819.0  2.0        25.0  3.0   \n",
       "3           1.0      11.0         3.0  1103.0  2.0        25.0  4.0   \n",
       "4           1.0      11.0         3.0  1399.0  2.0        25.0  5.0   \n",
       "\n",
       "         pupil   start  trial      x      y  \n",
       "0  3287.901123  -183.0    1.0  636.0  489.0  \n",
       "1  2872.182129   261.0    1.0  524.0  276.0  \n",
       "2  2452.396484   541.0    1.0  592.0  393.0  \n",
       "3  2135.433594   865.0    1.0  367.0  339.0  \n",
       "4  2007.327393  1145.0    1.0  196.0  364.0  "
      ]
     },
     "execution_count": 5,
     "metadata": {},
     "output_type": "execute_result"
    }
   ],
   "source": [
    "#df.columns\n",
    "df_orig = df.copy()\n",
    "df.head()"
   ]
  },
  {
   "cell_type": "markdown",
   "metadata": {},
   "source": [
    "### b) data cleaning [3 pts]\n",
    "We want to clean the dataframe so that it is handy for us to work with it.\n",
    "- How many fixations do we have per category? ```agg``` function might be helpful.\n",
    "- categories are encoded using a number. Add a column to the dataframe that has approporiate string value for that category (e.g. code 11.0 to \"Pink-noise\"). The category names can be found on Figure 2 of the paper.\n",
    "- since measurements lasted for 6 seconds, any fixation points that have a onset time before 0 sec and end time more than 6 sec are erroneous. Remove these rows.\n",
    "- also remove all rows with any NaN values.\n",
    "- add a column called ```duration``` and compute the duration of each fixation.\n",
    "- It is known from previous literature that fixations typically last between 100 msec to 400 msec. Remove all rows with unrealistic  fixation duration.\n",
    "- check how many data points got removed for each category. Let's hope that we didn't delete too many rows from a single category.\n",
    "- count the number of fixations for each trial. To do this, you can use the aggregate method to count the number of rows for each category.\n",
    "- print the mean duration and the mean number of fixation across all trials. Are they in a realistic range?"
   ]
  },
  {
   "cell_type": "code",
   "execution_count": 6,
   "metadata": {
    "scrolled": true
   },
   "outputs": [
    {
     "name": "stdout",
     "output_type": "stream",
     "text": [
      "Fixations per category (uncleaned data):\n",
      "Category: 7.0 Fixations: 525239.0\n",
      "Category: 8.0 Fixations: 603065.0\n",
      "Category: 10.0 Fixations: 535803.0\n",
      "Category: 11.0 Fixations: 369649.0\n",
      "\n",
      "Data points per category before clean-up:\n",
      "Category: 7.0 Data points: 52338\n",
      "Category: 8.0 Data points: 56680\n",
      "Category: 10.0 Data points: 52901\n",
      "Category: 11.0 Data points: 41853\n",
      "\n",
      "Data points per category after clean-up:\n",
      "Category: 7.0 Data points: 39784\n",
      "Category: 8.0 Data points: 44845\n",
      "Category: 10.0 Data points: 39922\n",
      "Category: 11.0 Data points: 27250\n",
      "\n",
      "Data points removed per category:\n",
      "Category: 7.0 Data points: 12554\n",
      "Category: 8.0 Data points: 11835\n",
      "Category: 10.0 Data points: 12979\n",
      "Category: 11.0 Data points: 14603\n",
      "\n",
      "Number of fixations for each trial (cleaned data):\n",
      "Trial: 1.0 Fixations: 581\n",
      "Trial: 2.0 Fixations: 612\n",
      "Trial: 3.0 Fixations: 584\n",
      "Trial: 4.0 Fixations: 583\n",
      "Trial: 5.0 Fixations: 659\n",
      "Trial: 6.0 Fixations: 625\n",
      "Trial: 7.0 Fixations: 591\n",
      "Trial: 8.0 Fixations: 645\n",
      "Trial: 9.0 Fixations: 647\n",
      "Trial: 10.0 Fixations: 652\n",
      "Trial: 11.0 Fixations: 618\n",
      "Trial: 12.0 Fixations: 605\n",
      "Trial: 13.0 Fixations: 559\n",
      "Trial: 14.0 Fixations: 629\n",
      "Trial: 15.0 Fixations: 634\n",
      "Trial: 16.0 Fixations: 610\n",
      "Trial: 17.0 Fixations: 610\n",
      "Trial: 18.0 Fixations: 620\n",
      "Trial: 19.0 Fixations: 611\n",
      "Trial: 20.0 Fixations: 606\n",
      "Trial: 21.0 Fixations: 638\n",
      "Trial: 22.0 Fixations: 656\n",
      "Trial: 23.0 Fixations: 625\n",
      "Trial: 24.0 Fixations: 627\n",
      "Trial: 25.0 Fixations: 646\n",
      "Trial: 26.0 Fixations: 575\n",
      "Trial: 27.0 Fixations: 609\n",
      "Trial: 28.0 Fixations: 584\n",
      "Trial: 29.0 Fixations: 609\n",
      "Trial: 30.0 Fixations: 635\n",
      "Trial: 31.0 Fixations: 540\n",
      "Trial: 32.0 Fixations: 605\n",
      "Trial: 33.0 Fixations: 634\n",
      "Trial: 34.0 Fixations: 622\n",
      "Trial: 35.0 Fixations: 642\n",
      "Trial: 36.0 Fixations: 632\n",
      "Trial: 37.0 Fixations: 649\n",
      "Trial: 38.0 Fixations: 629\n",
      "Trial: 39.0 Fixations: 620\n",
      "Trial: 40.0 Fixations: 583\n",
      "Trial: 41.0 Fixations: 570\n",
      "Trial: 42.0 Fixations: 610\n",
      "Trial: 43.0 Fixations: 589\n",
      "Trial: 44.0 Fixations: 629\n",
      "Trial: 45.0 Fixations: 619\n",
      "Trial: 46.0 Fixations: 577\n",
      "Trial: 47.0 Fixations: 649\n",
      "Trial: 48.0 Fixations: 583\n",
      "Trial: 49.0 Fixations: 640\n",
      "Trial: 50.0 Fixations: 592\n",
      "Trial: 51.0 Fixations: 557\n",
      "Trial: 52.0 Fixations: 573\n",
      "Trial: 53.0 Fixations: 615\n",
      "Trial: 54.0 Fixations: 604\n",
      "Trial: 55.0 Fixations: 606\n",
      "Trial: 56.0 Fixations: 603\n",
      "Trial: 57.0 Fixations: 602\n",
      "Trial: 58.0 Fixations: 635\n",
      "Trial: 59.0 Fixations: 600\n",
      "Trial: 60.0 Fixations: 589\n",
      "Trial: 61.0 Fixations: 585\n",
      "Trial: 62.0 Fixations: 598\n",
      "Trial: 63.0 Fixations: 606\n",
      "Trial: 64.0 Fixations: 608\n",
      "Trial: 65.0 Fixations: 549\n",
      "Trial: 66.0 Fixations: 663\n",
      "Trial: 67.0 Fixations: 619\n",
      "Trial: 68.0 Fixations: 602\n",
      "Trial: 69.0 Fixations: 599\n",
      "Trial: 70.0 Fixations: 567\n",
      "Trial: 71.0 Fixations: 585\n",
      "Trial: 72.0 Fixations: 584\n",
      "Trial: 73.0 Fixations: 599\n",
      "Trial: 74.0 Fixations: 602\n",
      "Trial: 75.0 Fixations: 619\n",
      "Trial: 76.0 Fixations: 591\n",
      "Trial: 77.0 Fixations: 580\n",
      "Trial: 78.0 Fixations: 583\n",
      "Trial: 79.0 Fixations: 572\n",
      "Trial: 80.0 Fixations: 626\n",
      "Trial: 81.0 Fixations: 586\n",
      "Trial: 82.0 Fixations: 590\n",
      "Trial: 83.0 Fixations: 580\n",
      "Trial: 84.0 Fixations: 621\n",
      "Trial: 85.0 Fixations: 626\n",
      "Trial: 86.0 Fixations: 585\n",
      "Trial: 87.0 Fixations: 602\n",
      "Trial: 88.0 Fixations: 624\n",
      "Trial: 89.0 Fixations: 576\n",
      "Trial: 90.0 Fixations: 611\n",
      "Trial: 91.0 Fixations: 628\n",
      "Trial: 92.0 Fixations: 592\n",
      "Trial: 93.0 Fixations: 543\n",
      "Trial: 94.0 Fixations: 650\n",
      "Trial: 95.0 Fixations: 598\n",
      "Trial: 96.0 Fixations: 644\n",
      "Trial: 97.0 Fixations: 621\n",
      "Trial: 98.0 Fixations: 601\n",
      "Trial: 99.0 Fixations: 645\n",
      "Trial: 100.0 Fixations: 606\n",
      "Trial: 101.0 Fixations: 600\n",
      "Trial: 102.0 Fixations: 576\n",
      "Trial: 103.0 Fixations: 665\n",
      "Trial: 104.0 Fixations: 642\n",
      "Trial: 105.0 Fixations: 563\n",
      "Trial: 106.0 Fixations: 582\n",
      "Trial: 107.0 Fixations: 588\n",
      "Trial: 108.0 Fixations: 540\n",
      "Trial: 109.0 Fixations: 553\n",
      "Trial: 110.0 Fixations: 594\n",
      "Trial: 111.0 Fixations: 587\n",
      "Trial: 112.0 Fixations: 583\n",
      "Trial: 113.0 Fixations: 649\n",
      "Trial: 114.0 Fixations: 620\n",
      "Trial: 115.0 Fixations: 565\n",
      "Trial: 116.0 Fixations: 568\n",
      "Trial: 117.0 Fixations: 554\n",
      "Trial: 118.0 Fixations: 620\n",
      "Trial: 119.0 Fixations: 620\n",
      "Trial: 120.0 Fixations: 578\n",
      "Trial: 121.0 Fixations: 603\n",
      "Trial: 122.0 Fixations: 566\n",
      "Trial: 123.0 Fixations: 571\n",
      "Trial: 124.0 Fixations: 567\n",
      "Trial: 125.0 Fixations: 571\n",
      "Trial: 126.0 Fixations: 602\n",
      "Trial: 127.0 Fixations: 629\n",
      "Trial: 128.0 Fixations: 605\n",
      "Trial: 129.0 Fixations: 630\n",
      "Trial: 130.0 Fixations: 649\n",
      "Trial: 131.0 Fixations: 620\n",
      "Trial: 132.0 Fixations: 584\n",
      "Trial: 133.0 Fixations: 563\n",
      "Trial: 134.0 Fixations: 625\n",
      "Trial: 135.0 Fixations: 627\n",
      "Trial: 136.0 Fixations: 579\n",
      "Trial: 137.0 Fixations: 605\n",
      "Trial: 138.0 Fixations: 603\n",
      "Trial: 139.0 Fixations: 530\n",
      "Trial: 140.0 Fixations: 575\n",
      "Trial: 141.0 Fixations: 615\n",
      "Trial: 142.0 Fixations: 638\n",
      "Trial: 143.0 Fixations: 612\n",
      "Trial: 144.0 Fixations: 630\n",
      "Trial: 145.0 Fixations: 628\n",
      "Trial: 146.0 Fixations: 611\n",
      "Trial: 147.0 Fixations: 588\n",
      "Trial: 148.0 Fixations: 580\n",
      "Trial: 149.0 Fixations: 575\n",
      "Trial: 150.0 Fixations: 600\n",
      "Trial: 151.0 Fixations: 621\n",
      "Trial: 152.0 Fixations: 631\n",
      "Trial: 153.0 Fixations: 630\n",
      "Trial: 154.0 Fixations: 600\n",
      "Trial: 155.0 Fixations: 624\n",
      "Trial: 156.0 Fixations: 558\n",
      "Trial: 157.0 Fixations: 552\n",
      "Trial: 158.0 Fixations: 592\n",
      "Trial: 159.0 Fixations: 596\n",
      "Trial: 160.0 Fixations: 607\n",
      "Trial: 161.0 Fixations: 569\n",
      "Trial: 162.0 Fixations: 592\n",
      "Trial: 163.0 Fixations: 584\n",
      "Trial: 164.0 Fixations: 609\n",
      "Trial: 165.0 Fixations: 568\n",
      "Trial: 166.0 Fixations: 619\n",
      "Trial: 167.0 Fixations: 553\n",
      "Trial: 168.0 Fixations: 552\n",
      "Trial: 169.0 Fixations: 615\n",
      "Trial: 170.0 Fixations: 602\n",
      "Trial: 171.0 Fixations: 625\n",
      "Trial: 172.0 Fixations: 593\n",
      "Trial: 173.0 Fixations: 554\n",
      "Trial: 174.0 Fixations: 598\n",
      "Trial: 175.0 Fixations: 548\n",
      "Trial: 176.0 Fixations: 588\n",
      "Trial: 177.0 Fixations: 578\n",
      "Trial: 178.0 Fixations: 596\n",
      "Trial: 179.0 Fixations: 582\n",
      "Trial: 180.0 Fixations: 569\n",
      "Trial: 181.0 Fixations: 639\n",
      "Trial: 182.0 Fixations: 481\n",
      "Trial: 183.0 Fixations: 621\n",
      "Trial: 184.0 Fixations: 619\n",
      "Trial: 185.0 Fixations: 594\n",
      "Trial: 186.0 Fixations: 573\n",
      "Trial: 187.0 Fixations: 603\n",
      "Trial: 188.0 Fixations: 571\n",
      "Trial: 189.0 Fixations: 632\n",
      "Trial: 190.0 Fixations: 573\n",
      "Trial: 191.0 Fixations: 586\n",
      "Trial: 192.0 Fixations: 621\n",
      "Trial: 193.0 Fixations: 592\n",
      "Trial: 194.0 Fixations: 520\n",
      "Trial: 195.0 Fixations: 583\n",
      "Trial: 196.0 Fixations: 630\n",
      "Trial: 197.0 Fixations: 601\n",
      "Trial: 198.0 Fixations: 543\n",
      "Trial: 199.0 Fixations: 604\n",
      "Trial: 200.0 Fixations: 632\n",
      "Trial: 201.0 Fixations: 614\n",
      "Trial: 202.0 Fixations: 616\n",
      "Trial: 203.0 Fixations: 567\n",
      "Trial: 204.0 Fixations: 609\n",
      "Trial: 205.0 Fixations: 578\n",
      "Trial: 206.0 Fixations: 547\n",
      "Trial: 207.0 Fixations: 591\n",
      "Trial: 208.0 Fixations: 632\n",
      "Trial: 209.0 Fixations: 562\n",
      "Trial: 210.0 Fixations: 582\n",
      "Trial: 211.0 Fixations: 555\n",
      "Trial: 212.0 Fixations: 592\n",
      "Trial: 213.0 Fixations: 555\n",
      "Trial: 214.0 Fixations: 588\n",
      "Trial: 215.0 Fixations: 591\n",
      "Trial: 216.0 Fixations: 642\n",
      "Trial: 217.0 Fixations: 570\n",
      "Trial: 218.0 Fixations: 613\n",
      "Trial: 219.0 Fixations: 602\n",
      "Trial: 220.0 Fixations: 543\n",
      "Trial: 221.0 Fixations: 583\n",
      "Trial: 222.0 Fixations: 574\n",
      "Trial: 223.0 Fixations: 569\n",
      "Trial: 224.0 Fixations: 558\n",
      "Trial: 225.0 Fixations: 593\n",
      "Trial: 226.0 Fixations: 511\n",
      "Trial: 227.0 Fixations: 636\n",
      "Trial: 228.0 Fixations: 584\n",
      "Trial: 229.0 Fixations: 603\n",
      "Trial: 230.0 Fixations: 552\n",
      "Trial: 231.0 Fixations: 549\n",
      "Trial: 232.0 Fixations: 535\n",
      "Trial: 233.0 Fixations: 542\n",
      "Trial: 234.0 Fixations: 620\n",
      "Trial: 235.0 Fixations: 590\n",
      "Trial: 236.0 Fixations: 562\n",
      "Trial: 237.0 Fixations: 565\n",
      "Trial: 238.0 Fixations: 583\n",
      "Trial: 239.0 Fixations: 617\n",
      "Trial: 240.0 Fixations: 542\n",
      "Trial: 241.0 Fixations: 542\n",
      "Trial: 242.0 Fixations: 542\n",
      "Trial: 243.0 Fixations: 562\n",
      "Trial: 244.0 Fixations: 538\n",
      "Trial: 245.0 Fixations: 547\n",
      "Trial: 246.0 Fixations: 599\n",
      "Trial: 247.0 Fixations: 545\n",
      "Trial: 248.0 Fixations: 547\n",
      "Trial: 249.0 Fixations: 573\n",
      "Trial: 250.0 Fixations: 587\n",
      "Trial: 251.0 Fixations: 591\n",
      "Trial: 252.0 Fixations: 606\n",
      "Trial: 253.0 Fixations: 586\n",
      "Trial: 254.0 Fixations: 544\n",
      "Trial: 255.0 Fixations: 575\n",
      "\n",
      "Mean duration (cleaned data): 240.49148559570312\n",
      "\n",
      "Mean number of fixations (cleaned data): 10.157594680786133\n"
     ]
    }
   ],
   "source": [
    "# Get fixations per category \n",
    "print(\"Fixations per category (uncleaned data):\")\n",
    "fix_per_cat = df.groupby(\"category\").agg(\"sum\")[\"fix\"].copy()\n",
    "for cat, fixations in fix_per_cat.iteritems():\n",
    "    print(\"Category:\", cat, \"Fixations:\", fixations)\n",
    "#print(df.groupby(\"category\").sum()[\"fix\"]) # alternative \n",
    "\n",
    "\n",
    "# add category strings to df \n",
    "category_dict = {7: \"Natural\", 26: \"Low-pass natural\", 24: \"High-pass natural\", 17: \"Natural Set II\", 19: \"Naturals Set III\",\n",
    "8: \"Urban\", 27: \"Low-pass urban\", 25: \"High-pass urban\", 15: \"Urban set II\", 16: \"Urban set III\", 14: \"Label-me images\",\n",
    "20: \"Mixed\", 18: \"Scrambled fractals\", 23: \"3D stimuli\", 10: \"Fractals\", 11: \"Pink-noise\", 12: \"Bistable images\", 21: \"Faces 1 & 2\",\n",
    "22: \"Faces 1 & 2\", 6: \"Websites\", 28: \"Websites\"}\n",
    "df[\"category string\"] = df[\"category\"]\n",
    "df.replace({\"category string\": category_dict}, inplace = True)\n",
    "\n",
    "# remove erroneous data based on start and end times \n",
    "df.drop(df.loc[df[\"start\"] < 0].index, inplace = True) # start time must not be negative\n",
    "df.drop(df.loc[df[\"end\"] > 6000].index, inplace = True) # end time must not be smaller than 6s \n",
    "df.dropna(inplace = True) # remove all lines with NaNs\n",
    "\n",
    "# add column of fixation duration \n",
    "df[\"duration\"] = df[\"end\"] - df[\"start\"]\n",
    "\n",
    "# remove rows with unrealistic fixation durations \n",
    "df.drop(df.loc[df[\"duration\"] < 100].index, inplace = True) # not shorter than 100msec\n",
    "df.drop(df.loc[df[\"duration\"] > 400].index, inplace = True) # not longer than 400msec\n",
    "\n",
    "# get data points per category before removing erroneous data \n",
    "print(\"\\nData points per category before clean-up:\")\n",
    "data_pts_per_cat_before_cleaning = df_orig.groupby(\"category\").count()[\"fix\"].copy()\n",
    "for cat, pts in data_pts_per_cat_before_cleaning.iteritems():\n",
    "    print(\"Category:\", cat, \"Data points:\", pts)\n",
    "\n",
    "# get data points per category after removing erroneous data \n",
    "print(\"\\nData points per category after clean-up:\")\n",
    "data_pts_per_cat_after_cleaning = df.groupby(\"category\").count()[\"fix\"].copy()\n",
    "for cat, pts in data_pts_per_cat_after_cleaning.iteritems():\n",
    "    print(\"Category:\", cat, \"Data points:\", pts)\n",
    "    \n",
    "# calculate number of removed data points \n",
    "print(\"\\nData points removed per category:\")\n",
    "data_pts_per_cat_removed = data_pts_per_cat_before_cleaning - data_pts_per_cat_after_cleaning\n",
    "for cat, pts in data_pts_per_cat_removed.iteritems():\n",
    "    print(\"Category:\", cat, \"Data points:\", pts)\n",
    "\n",
    "# get number of fixations for each trial \n",
    "print(\"\\nNumber of fixations for each trial (cleaned data):\")\n",
    "fix_for_each_trial = df.groupby(\"trial\").agg(\"count\")[\"fix\"].copy()\n",
    "for trial, fixations in fix_for_each_trial.iteritems():\n",
    "    print(\"Trial:\", trial, \"Fixations:\", fixations)\n",
    "#print(df.groupby(\"trial\").count()) # alternative \n",
    "\n",
    "# mean duration\n",
    "print(\"\\nMean duration (cleaned data):\", df[\"duration\"].mean())\n",
    "\n",
    "# mean number of fixations \n",
    "print(\"\\nMean number of fixations (cleaned data):\", df[\"fix\"].mean())"
   ]
  },
  {
   "cell_type": "markdown",
   "metadata": {},
   "source": [
    "### c) visualizing data distribution [3 pts]\n",
    "Are there any inter-subject difference and effect of different category in our data?\n",
    "- plot the mean duration for each category (4 x-values) and the mean duration for each subject (48 x-values).\n",
    "\n",
    "- plot the mean number of fixations for each category (4 x-values) and the mean number of fixation for each subject (48 x-values)."
   ]
  },
  {
   "cell_type": "code",
   "execution_count": 7,
   "metadata": {
    "scrolled": false
   },
   "outputs": [
    {
     "data": {
      "image/png": "[encoded data removed]",
      "text/plain": [
       "<Figure size 1440x1440 with 4 Axes>"
      ]
     },
     "metadata": {},
     "output_type": "display_data"
    }
   ],
   "source": [
    "# create figure \n",
    "fig, axs = plt.subplots(nrows = 2, ncols = 2, figsize = (20,20))\n",
    "\n",
    "# create plots \n",
    "sns.barplot(data = df, x = \"category string\", y = \"duration\", palette = \"Reds\", ax = axs[0,0])\n",
    "sns.barplot(data = df, x = \"SUBJECTINDEX\", y = \"duration\", palette = \"Reds\", ax = axs[0,1])\n",
    "sns.barplot(data = df, x = \"category string\", y = \"fix\", palette = \"Reds\", ax = axs[1,0])\n",
    "sns.barplot(data = df, x = \"SUBJECTINDEX\", y = \"fix\", palette = \"Reds\", ax = axs[1,1])\n",
    "\n",
    "# set legend ticks \n",
    "xlabels_0_1 = [item.get_text() for item in axs[0,1].get_xticklabels()]\n",
    "xlabels_0_1 = [label if (idx+1)%5 == 0 else \"\" for idx, label in enumerate(xlabels_0_1)]\n",
    "axs[0,1].set_xticklabels(xlabels_0_1)\n",
    "xlabels_1_1 = [item.get_text() for item in axs[1,1].get_xticklabels()]\n",
    "xlabels_1_1 = [label if (idx+1)%5 == 0 else \"\" for idx, label in enumerate(xlabels_1_1)]\n",
    "axs[1,1].set_xticklabels(xlabels_1_1)\n",
    "\n",
    "# set labels \n",
    "axs[0,0].set(xlabel='Category', ylabel='Mean duration (msec)')\n",
    "axs[0,1].set(xlabel='SubjectID', ylabel='Mean duration (msec)')\n",
    "axs[1,0].set(xlabel='Category', ylabel='Mean number of fixations')\n",
    "axs[1,1].set(xlabel='SubjectID', ylabel='Mean number of fixations')\n",
    "plt.show()"
   ]
  },
  {
   "cell_type": "markdown",
   "metadata": {},
   "source": [
    "### d) normally distributed data [3 pts]\n",
    "As ANOVA and lots of other statistical tests can be used only for normally distributed varaibles, it makes sense to find out whether the fixation duration and the number of fixations per trial is also normally distributed. This can be done with a Q-Q-Plot, which  is a graphical technique for determining if two data sets come from populations with a common distribution, in this case a normal distribution (for more information, klick [here](https://www.itl.nist.gov/div898/handbook/eda/section3/eda33o.htm)).\n",
    "- make a Q-Q plot of the variable *fixation duration*. Is it approximately normally distributed?\n",
    "- make a Q-Q plot of the variable *# fixation per trial*. Is it approximately normally distributed?"
   ]
  },
  {
   "cell_type": "code",
   "execution_count": 8,
   "metadata": {
    "scrolled": false
   },
   "outputs": [
    {
     "data": {
      "image/png": "[encoded data removed]",
      "text/plain": [
       "<Figure size 576x360 with 2 Axes>"
      ]
     },
     "metadata": {},
     "output_type": "display_data"
    }
   ],
   "source": [
    "# create figure\n",
    "fig, axes = plt.subplots(nrows = 1, ncols = 2, figsize = (8,5))\n",
    "\n",
    "# create datasets and qq-plot\n",
    "prob_fixation = sm.ProbPlot(df[\"duration\"], dist = \"norm\")\n",
    "prob_fixation.qqplot(line = \"r\", ax = axes[0]) # use regression line\n",
    "prob_fix_per_trial = sm.ProbPlot(df.groupby(\"trial\").agg(\"sum\")[\"fix\"], dist = \"norm\")\n",
    "prob_fix_per_trial.qqplot(line = \"r\", ax = axes[1]) # use regression line \n",
    "fig.tight_layout()\n",
    "plt.show()"
   ]
  },
  {
   "cell_type": "markdown",
   "metadata": {},
   "source": [
    "It seems that fixation duration overall is not normally distributed, as espacially for the low quantiles, there is a strong deviance from the regression. The fixations per trial however seem to be normally distributed. The quantiles of the fixation per trial data closely match the quantiles of normally distributed data. "
   ]
  },
  {
   "cell_type": "markdown",
   "metadata": {},
   "source": [
    "## Assignment 2: Hypothesis testing [3 pts]"
   ]
  },
  {
   "cell_type": "markdown",
   "metadata": {},
   "source": [
    "### a) one way ANOVA [3 pts]\n",
    "Now it's time to really prove our intuition. Test the following null hypotheses:  \n",
    "$H01$: There is no difference in fixation duration across 4 different categories.  \n",
    "$H02$: There is no difference in the number of fixations across 4 different categories.\n",
    "\n",
    "What do you find?"
   ]
  },
  {
   "cell_type": "code",
   "execution_count": 9,
   "metadata": {},
   "outputs": [
    {
     "data": {
      "text/html": [
       "<div>\n",
       "<style scoped>\n",
       "    .dataframe tbody tr th:only-of-type {\n",
       "        vertical-align: middle;\n",
       "    }\n",
       "\n",
       "    .dataframe tbody tr th {\n",
       "        vertical-align: top;\n",
       "    }\n",
       "\n",
       "    .dataframe thead th {\n",
       "        text-align: right;\n",
       "    }\n",
       "</style>\n",
       "<table border=\"1\" class=\"dataframe\">\n",
       "  <thead>\n",
       "    <tr style=\"text-align: right;\">\n",
       "      <th></th>\n",
       "      <th>df</th>\n",
       "      <th>sum_sq</th>\n",
       "      <th>mean_sq</th>\n",
       "      <th>F</th>\n",
       "      <th>PR(&gt;F)</th>\n",
       "    </tr>\n",
       "  </thead>\n",
       "  <tbody>\n",
       "    <tr>\n",
       "      <th>C(category)</th>\n",
       "      <td>3.0</td>\n",
       "      <td>6.918205e+06</td>\n",
       "      <td>2.306068e+06</td>\n",
       "      <td>431.192133</td>\n",
       "      <td>5.622037e-279</td>\n",
       "    </tr>\n",
       "    <tr>\n",
       "      <th>Residual</th>\n",
       "      <td>151797.0</td>\n",
       "      <td>8.118290e+08</td>\n",
       "      <td>5.348123e+03</td>\n",
       "      <td>NaN</td>\n",
       "      <td>NaN</td>\n",
       "    </tr>\n",
       "  </tbody>\n",
       "</table>\n",
       "</div>"
      ],
      "text/plain": [
       "                   df        sum_sq       mean_sq           F         PR(>F)\n",
       "C(category)       3.0  6.918205e+06  2.306068e+06  431.192133  5.622037e-279\n",
       "Residual     151797.0  8.118290e+08  5.348123e+03         NaN            NaN"
      ]
     },
     "execution_count": 9,
     "metadata": {},
     "output_type": "execute_result"
    }
   ],
   "source": [
    "#### SEEMS VERY SKETCHY\n",
    "\n",
    "model_h01_anova = ols(\"duration~C(category)\", data = df).fit() # c() operator to treat as categorical data \n",
    "aov_table = anova_lm(model_h01_anova, typ = 1)\n",
    "aov_table"
   ]
  },
  {
   "cell_type": "code",
   "execution_count": 10,
   "metadata": {
    "scrolled": true
   },
   "outputs": [
    {
     "data": {
      "text/html": [
       "<div>\n",
       "<style scoped>\n",
       "    .dataframe tbody tr th:only-of-type {\n",
       "        vertical-align: middle;\n",
       "    }\n",
       "\n",
       "    .dataframe tbody tr th {\n",
       "        vertical-align: top;\n",
       "    }\n",
       "\n",
       "    .dataframe thead th {\n",
       "        text-align: right;\n",
       "    }\n",
       "</style>\n",
       "<table border=\"1\" class=\"dataframe\">\n",
       "  <thead>\n",
       "    <tr style=\"text-align: right;\">\n",
       "      <th></th>\n",
       "      <th>df</th>\n",
       "      <th>sum_sq</th>\n",
       "      <th>mean_sq</th>\n",
       "      <th>F</th>\n",
       "      <th>PR(&gt;F)</th>\n",
       "    </tr>\n",
       "  </thead>\n",
       "  <tbody>\n",
       "    <tr>\n",
       "      <th>C(category)</th>\n",
       "      <td>3.0</td>\n",
       "      <td>3.568378e+04</td>\n",
       "      <td>11894.594050</td>\n",
       "      <td>415.497823</td>\n",
       "      <td>7.603614e-269</td>\n",
       "    </tr>\n",
       "    <tr>\n",
       "      <th>Residual</th>\n",
       "      <td>151797.0</td>\n",
       "      <td>4.345543e+06</td>\n",
       "      <td>28.627332</td>\n",
       "      <td>NaN</td>\n",
       "      <td>NaN</td>\n",
       "    </tr>\n",
       "  </tbody>\n",
       "</table>\n",
       "</div>"
      ],
      "text/plain": [
       "                   df        sum_sq       mean_sq           F         PR(>F)\n",
       "C(category)       3.0  3.568378e+04  11894.594050  415.497823  7.603614e-269\n",
       "Residual     151797.0  4.345543e+06     28.627332         NaN            NaN"
      ]
     },
     "execution_count": 10,
     "metadata": {},
     "output_type": "execute_result"
    }
   ],
   "source": [
    "#### SEEMS VERY SKETCHY\n",
    "\n",
    "model_h02_anova = ols(\"fix~C(category)\", data = df).fit() # c() operator to treat as categorical data \n",
    "aov_table = anova_lm(model_h02_anova, typ = 1)\n",
    "aov_table"
   ]
  },
  {
   "cell_type": "markdown",
   "metadata": {},
   "source": [
    "what do you say?"
   ]
  },
  {
   "cell_type": "markdown",
   "metadata": {},
   "source": [
    "## Assignment 3: Binning [4 pts]"
   ]
  },
  {
   "cell_type": "markdown",
   "metadata": {},
   "source": [
    "### a) distribution of # fixation [2 pts]\n",
    "Now we would like to know if there's a difference in terms of fixation numbers at different time segment.\n",
    "- make a histogram with x axis being the start time of fixation\n",
    "- the bin size should be 1 sec. In total there would be 6 bins.\n",
    "- average over all subjects and images, just make a one simple plot\n",
    "- figure out mean fixation duration for each bin and print it\n"
   ]
  },
  {
   "cell_type": "code",
   "execution_count": 11,
   "metadata": {
    "scrolled": true
   },
   "outputs": [
    {
     "name": "stdout",
     "output_type": "stream",
     "text": [
      "The mean value for the bin between 0 and 1  is  538.8696899414062\n",
      "The mean value for the bin between 1 and 2  is  1497.6405029296875\n",
      "The mean value for the bin between 2 and 3  is  2497.516357421875\n",
      "The mean value for the bin between 3 and 4  is  3498.64306640625\n",
      "The mean value for the bin between 4 and 5  is  4496.7490234375\n",
      "The mean value for the bin between 5 and 6  is  5379.30712890625\n"
     ]
    },
    {
     "data": {
      "image/png": "[encoded data removed]",
      "text/plain": [
       "<Figure size 432x288 with 1 Axes>"
      ]
     },
     "metadata": {},
     "output_type": "display_data"
    }
   ],
   "source": [
    "# TODO\n",
    "\n",
    "# a histogram with x axis being the start time of fixation\n",
    "bins = np.linspace(0,6000,7)\n",
    "p1 = sns.distplot( df[\"start\"], bins=6, kde=False, norm_hist=False)\n",
    "digitized= np.digitize(df[\"start\"], bins )\n",
    "\n",
    "#figure out mean fixation duration for each bin\n",
    "bins_mean = [df[\"start\"][digitized == i].mean() for i in range (1, len(bins))]\n",
    "\n",
    "#print the meanvalues\n",
    "for idx, mean in np.ndenumerate(bins_mean):\n",
    "    print( \"The mean value for the bin between\", str(idx[0]), \"and\",str(idx[0]+1), \" is \",str(mean))\n",
    "   \n",
    "\n",
    "\n"
   ]
  },
  {
   "cell_type": "markdown",
   "metadata": {},
   "source": [
    "### b) leftward bias [2 pts]\n",
    "If you took Action & Cognition I, you have probably heard about the leftward bias in human's fixation behavior. It is known that people tend to look more at the left visual field for the initial first second. Check whether this holds for our dataset as well.\n",
    "- make a pointplot with x-axis as the x-coordinate of each fixation point and y-axis as the time bin to which the fixation point belongs to.\n",
    "- mark the confidence interval around each point.\n",
    "- make a vertical line at middle point of the x values. The x-coordinate of the fixation point in the data is based on the coordinate system using the display resolution. You can find out the information about display resolution by taking a look at the meta data."
   ]
  },
  {
   "cell_type": "code",
   "execution_count": 21,
   "metadata": {},
   "outputs": [
    {
     "data": {
      "text/plain": [
       "Text(0,0.5,'timebin')"
      ]
     },
     "execution_count": 21,
     "metadata": {},
     "output_type": "execute_result"
    },
    {
     "data": {
      "image/png": "[encoded data removed]",
      "text/plain": [
       "<Figure size 720x720 with 1 Axes>"
      ]
     },
     "metadata": {},
     "output_type": "display_data"
    }
   ],
   "source": [
    "# TODO\n",
    "# pointplot with x-axis as the x-coordinate of each fixation point and y-axis as the time bin to which the fixation point belongs to\n",
    "fig, axes = plt.subplots(nrows = 1, ncols = 1, figsize = (10,10))\n",
    "bins = np.linspace(0,6000,7)\n",
    "sns.pointplot(data=df,x=\"x\", y=bins)\n",
    "\n",
    "#ax = sns.regplot(data=df,x=\"x\", y=bins, line_kws={'label': 'Regression line'})\n",
    "#ax.collections[1].set_label('Confidence interval')\n",
    "#ax.legend()\n",
    "\n",
    "# a vertical line at middle point of the x values\n",
    "middle = sum(df[\"x\"])/len(df[\"x\"])\n",
    "plt.axvline(middle, color='r')\n",
    "\n",
    "plt.xlabel('x-coordinates', fontsize=20)\n",
    "plt.ylabel('timebin', fontsize=20)\n",
    "\n",
    "#axes[0,1].set_xlim(0,)\n",
    "\n",
    "\n",
    "\n",
    "#axes.xaxis.set_ticks(np.arange(0, 1200, 100))\n",
    "\n",
    "#fig.tight_layout()"
   ]
  },
  {
   "cell_type": "markdown",
   "metadata": {},
   "source": [
    "## Assignment 4: Heatmap [4 pts]\n",
    "Now let's use heatmap to visualize which part of pictures is fixated for how long. It would be also good to know if there's a difference between categories.\n",
    "- make a heatmap for data consisting of each categories and then averaged across all data.\n",
    "- mark a central point in the plot.\n",
    "- you can use ```numpy.histogram2d``` to compute a bi-dimensional histogram.\n",
    "- then you can use ```pyplot.imshow``` to plot these histogram.\n",
    "- don't forget to use the parameter ```extent``` to control for the bounding box to which the image should fit in.\n",
    "- if you want to use other functions that's surely fine as well."
   ]
  },
  {
   "cell_type": "code",
   "execution_count": null,
   "metadata": {
    "scrolled": true
   },
   "outputs": [],
   "source": [
    "# available categories \n",
    "# 7, 8, 10, 11 \n",
    "\n",
    "# set image dimensions\n",
    "x_size, y_size = meta['Img. size (pixel)'].split('x')\n",
    "x_size = int(x_size)\n",
    "y_size = int(y_size)\n",
    "cluster_factor = 8\n",
    "xedges = x_size/cluster_factor \n",
    "yedges = y_size/cluster_factor\n",
    "\n",
    "# create figure \n",
    "fig, axs = plt.subplots(nrows = 3, ncols = 2, figsize = (20,25))\n",
    "fig.delaxes(axs[2,1])\n",
    "\n",
    "# create dfs for all available categories \n",
    "df_cat7 = df.loc[df[\"category\"]  == 7].copy()\n",
    "df_cat8 = df.loc[df[\"category\"]  == 8].copy()\n",
    "df_cat10 = df.loc[df[\"category\"]  == 10].copy()\n",
    "df_cat11 = df.loc[df[\"category\"]  == 11].copy()\n",
    "df_cataveraged = df.copy()\n",
    "\n",
    "# compute histograms for each category \n",
    "H_cat7, _, _ = np.histogram2d(x = df_cat7[\"x\"], y = df_cat7[\"y\"], bins = (xedges,yedges))\n",
    "H_cat7 = H_cat7.T\n",
    "H_cat8, _, _ = np.histogram2d(x = df_cat8[\"x\"], y = df_cat8[\"y\"], bins = (xedges,yedges))\n",
    "H_cat8 = H_cat8.T\n",
    "H_cat10, _, _ = np.histogram2d(x = df_cat10[\"x\"], y = df_cat10[\"y\"], bins = (xedges,yedges))\n",
    "H_cat10 = H_cat10.T\n",
    "H_cat11, _, _ = np.histogram2d(x = df_cat11[\"x\"], y = df_cat11[\"y\"], bins = (xedges,yedges))\n",
    "H_cat11 = H_cat11.T\n",
    "H_cataveraged, _, _ = np.histogram2d(x = df_cataveraged[\"x\"], y = df_cataveraged[\"y\"], bins = (xedges,yedges))\n",
    "H_cataveraged = H_cataveraged.T\n",
    "\n",
    "# display subplots with markers and set labels \n",
    "img_dims = (0,x_size,0,y_size)\n",
    "colormap = sns.cm.rocket\n",
    "axs[0,0].imshow(H_cat7, cmap = colormap, extent = img_dims)\n",
    "axs[0,0].plot(x_size/2, y_size/2, \"+\", markersize = 30, markeredgewidth = 3, color = \"White\")\n",
    "axs[0,0].set_xlabel(\"x(pixel)\")\n",
    "axs[0,0].set_ylabel(\"y(pixel)\")\n",
    "axs[0,0].set_title(df_cat7[\"category string\"].iloc[0])\n",
    "axs[0,0].set_ylabel(\"y(pixel)\")\n",
    "axs[0,1].imshow(H_cat8, cmap = colormap, extent = img_dims)\n",
    "axs[0,1].plot(x_size/2, y_size/2, \"+\", markersize = 30, markeredgewidth = 3, color = \"White\")\n",
    "axs[0,1].set_xlabel(\"x(pixel)\")\n",
    "axs[0,1].set_ylabel(\"y(pixel)\")\n",
    "axs[0,1].set_title(df_cat8[\"category string\"].iloc[0])\n",
    "axs[1,0].imshow(H_cat10, cmap = colormap, extent = img_dims)\n",
    "axs[1,0].plot(x_size/2, y_size/2, \"+\", markersize = 30, markeredgewidth = 3, color = \"White\")\n",
    "axs[1,0].set_xlabel(\"x(pixel)\")\n",
    "axs[1,0].set_ylabel(\"y(pixel)\")\n",
    "axs[1,0].set_title(df_cat10[\"category string\"].iloc[0])\n",
    "axs[1,1].imshow(H_cat11, cmap = colormap, extent = img_dims)\n",
    "axs[1,1].plot(x_size/2, y_size/2, \"+\", markersize = 30, markeredgewidth = 3, color = \"White\")\n",
    "axs[1,1].set_xlabel(\"x(pixel)\")\n",
    "axs[1,1].set_ylabel(\"y(pixel)\")\n",
    "axs[1,1].set_title(df_cat11[\"category string\"].iloc[0])\n",
    "axs[2,0].imshow(H_cataveraged, cmap = colormap, extent = img_dims)\n",
    "axs[2,0].plot(x_size/2, y_size/2, \"+\", markersize = 30, markeredgewidth = 3, color = \"White\")\n",
    "axs[2,0].set_xlabel(\"x(pixel)\")\n",
    "axs[2,0].set_ylabel(\"y(pixel)\")\n",
    "axs[2,0].set_title(\"Averaged\")\n",
    "plt.show()"
   ]
  },
  {
   "cell_type": "markdown",
   "metadata": {},
   "source": [
    "## Assignment 5: Scanpath [5 pts]\n",
    "We want to know whether different scan behaviour is used when viewing images of different categories. Scanpath is a path followed by the eyes when viewing a stimulus. Scanpaths are useful for analyzing cognitive intent, interest, and salience. It has an advantage to a heatmap because the information about temporal structure of viewing behaviour can be plotted.\n",
    "- make four plots, one for each category.\n",
    "- randomely choose one trial for which you will plot a scanpath.\n",
    "- mark fixation points based on the x-y coordinates.\n",
    "- plot the *saccade path* from one fixation point to another one.\n",
    "- make sure that the order of fixation can be read out from the plot. E.g. earlier fixations could have a light color whereas later fixations could have dark colors.\n",
    "- also include information about the duration of each fixation. One way to do it is the use the size of the fixation marker.\n",
    "- plot the background image superimposed with the scanpath. "
   ]
  },
  {
   "cell_type": "code",
   "execution_count": null,
   "metadata": {
    "scrolled": false
   },
   "outputs": [],
   "source": [
    "from PIL import Image\n",
    "import os\n",
    "\n",
    "# create figure\n",
    "fig, axs = plt.subplots(nrows = 2, ncols = 2, figsize = (20,20))\n",
    "\n",
    "# randomly choose trial number\n",
    "trial = np.random.randint(1.0,65.0)\n",
    "\n",
    "# open images from different categories\n",
    "if os.path.isfile(\"./datas/7/%d.png\" %trial):\n",
    "    background1 = Image.open(\"./datas/7/%d.png\" %trial)\n",
    "\n",
    "if os.path.isfile(\"./datas/8/%d.png\" %trial):\n",
    "    background2 = Image.open(\"./datas/8/%d.png\" %trial)\n",
    "    \n",
    "if os.path.isfile(\"./datas/10/%d.png\" %trial):\n",
    "    background3 = Image.open(\"./datas/10/%d.png\" %trial)\n",
    "    \n",
    "if os.path.isfile(\"./datas/11/%d.png\" %trial):\n",
    "    background4 = Image.open(\"./datas/11/%d.png\" %trial)\n",
    "\n",
    "# set data for first category and chosen trial\n",
    "data1 = df[df[\"category\"]==7.0]\n",
    "use1 = data1[data1[\"trial\"]==trial]\n",
    "# plot first category\n",
    "# size/sizes is for bigger points at longer fixations, hue/palette is for colour according to fixation order\n",
    "sns.scatterplot(data=use1, x=\"x\", y=\"y\", size=\"duration\", sizes= (50,500),ax=axs[0,0], hue=\"fix\", palette=\"Reds\")\n",
    "sns.lineplot(data= use1, x=\"x\", y=\"y\", sort=False, ax=axs[0,0])\n",
    "# alpha value makes image transparent\n",
    "axs[0,0].imshow(background1, aspect = 'equal',alpha = 0.3)\n",
    "axs[0,0].set_title('7: Natural',fontsize=25)\n",
    "\n",
    "# set data for second category and chosen trial\n",
    "data2 = df[df[\"category\"]==8.0]\n",
    "use2 = data2[data2[\"trial\"]==trial]\n",
    "# plot second category\n",
    "sns.scatterplot(data=use2, x=\"x\", y=\"y\", size=\"duration\", sizes= (50,500), ax=axs[0,1], hue=\"fix\", palette=\"Reds\")\n",
    "sns.lineplot(data= use2, x=\"x\", y=\"y\", sort=False, ax=axs[0,1])\n",
    "axs[0,1].imshow(background2, aspect = 'equal',alpha = 0.3)\n",
    "axs[0,1].set_title('8: Urban',fontsize=25)\n",
    "\n",
    "# set data for third category and chosen trial\n",
    "data3 = df[df[\"category\"]==10.0]\n",
    "use3 = data3[data3[\"trial\"]==trial]\n",
    "# plot third category\n",
    "sns.scatterplot(data=use3, x=\"x\", y=\"y\", size=\"duration\", sizes= (50,500), ax=axs[1,0], hue=\"fix\", palette=\"Reds\")\n",
    "sns.lineplot(data= use3, x=\"x\", y=\"y\", sort=False, ax=axs[1,0])\n",
    "axs[1,0].imshow(background3, aspect = 'equal',alpha = 0.3)\n",
    "axs[1,0].set_title('10: Fractals',fontsize=25)\n",
    "\n",
    "# set data for fourth category and chosen trial\n",
    "data4 = df[df[\"category\"]==11.0]\n",
    "use4 = data4[data4[\"trial\"]==trial]\n",
    "# plot fourth category\n",
    "sns.scatterplot(data=use4, x=\"x\", y=\"y\", size=\"duration\", sizes= (50,500), ax=axs[1,1], hue=\"fix\", palette=\"Reds\")\n",
    "sns.lineplot(data= use4, x=\"x\", y=\"y\", sort=False, ax=axs[1,1])\n",
    "axs[1,1].imshow(background4, aspect = 'equal', alpha= 0.3)\n",
    "axs[1,1].set_title('11: Pink-Noise',fontsize=25)\n",
    "\n",
    "fig.tight_layout()"
   ]
  },
  {
   "cell_type": "markdown",
   "metadata": {},
   "source": [
    "# Citation\n",
    "Wilming N, Onat S, Ossandón J, Acik A, Kietzmann TC, Kaspar K, Gameiro RR, Vormberg A, König P (2017) An extensive dataset of eye movements during viewing of complex images. Scientific Data 4: 160126. https://doi.org/10.1038/sdata.2016.126  \n",
    "Wilming N, Onat S, Ossandón J, Acik A, Kietzmann TC, Kaspar K, Gameiro RR, Vormberg A, König P (2017) Data from: An extensive dataset of eye movements during viewing of complex images. Dryad Digital Repository. https://doi.org/10.5061/dryad.9pf75"
   ]
  },
  {
   "cell_type": "code",
   "execution_count": null,
   "metadata": {},
   "outputs": [],
   "source": []
  }
 ],
 "metadata": {
  "kernelspec": {
   "display_name": "Python 3",
   "language": "python",
   "name": "python3"
  },
  "language_info": {
   "codemirror_mode": {
    "name": "ipython",
    "version": 3
   },
   "file_extension": ".py",
   "mimetype": "text/x-python",
   "name": "python",
   "nbconvert_exporter": "python",
   "pygments_lexer": "ipython3",
   "version": "3.6.4"
  }
 },
 "nbformat": 4,
 "nbformat_minor": 2
}
